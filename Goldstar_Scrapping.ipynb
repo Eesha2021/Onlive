{
 "cells": [
  {
   "cell_type": "code",
   "execution_count": null,
   "metadata": {},
   "outputs": [],
   "source": [
    "url=[]\n",
    "info=[]\n",
    "datamy=[]\n",
    "datamy2=[]"
   ]
  },
  {
   "cell_type": "code",
   "execution_count": null,
   "metadata": {
    "scrolled": true
   },
   "outputs": [],
   "source": [
    "import requests\n",
    "urli='https://www.goldstar.com/login'\n",
    "headers={'User-Agent': 'Mozilla/5.0 (Linux; Android 6.0; Nexus 5 Build/MRA58N) AppleWebKit/537.36 (KHTML, like Gecko) Chrome/88.0.4324.96 Mobile Safari/537.36'}\n",
    "from selenium import webdriver\n",
    "from selenium.webdriver.common.keys import Keys\n",
    "from webdriver_manager.chrome import ChromeDriverManager\n",
    "import webdrivermanager\n",
    "driver = webdriver.Chrome(ChromeDriverManager().install())\n",
    "driver.get(urli)\n",
    "email=\"eee.munshi@gmail.com\"\n",
    "passk=\"Dev@5264\"\n",
    "driver.find_element_by_id(\"form-email\").send_keys(email)\n",
    "driver.find_element_by_css_selector(\".button.spacer.button.button-default.large\").click()"
   ]
  },
  {
   "cell_type": "code",
   "execution_count": null,
   "metadata": {},
   "outputs": [],
   "source": [
    "driver.find_element_by_name(\"password\").send_keys(passk)\n",
    "driver.find_element_by_css_selector(\".button.spacer.button.button-default.large\").submit()"
   ]
  },
  {
   "cell_type": "code",
   "execution_count": null,
   "metadata": {},
   "outputs": [],
   "source": [
    "urlG=\"https://www.goldstar.com/national?q=free%20zoom&page=6\"\n",
    "driver.get(urlG)"
   ]
  },
  {
   "cell_type": "code",
   "execution_count": null,
   "metadata": {},
   "outputs": [],
   "source": [
    "elements = driver.find_elements_by_class_name(\"card-container\")\n",
    "name=\"deepak\"\n",
    "last=\"sharma\"\n",
    "number=\"+10686756786768678\""
   ]
  },
  {
   "cell_type": "code",
   "execution_count": null,
   "metadata": {
    "scrolled": true
   },
   "outputs": [],
   "source": [
    "for element in range(0,len(elements)):\n",
    "    print(element)\n",
    "    data=elements[element].text\n",
    "    print(data)\n",
    "    \n",
    "    if (\"FREE\" in data) and (\"$\" not in data):\n",
    "        \n",
    "        elements[element].click()\n",
    "        driver.implicitly_wait(5)\n",
    "        \n",
    "        x=driver.find_elements_by_class_name(\"buy-tickets\")\n",
    "        x[0].click()\n",
    "        driver.implicitly_wait(5)\n",
    "        data1=driver.find_elements_by_class_name(\"co-show-date\")\n",
    "        data1=data1[0].text\n",
    "        print(data1)\n",
    "        driver.implicitly_wait(2)\n",
    "        driver.find_element_by_id(\"begin-checkout-button\").click()\n",
    "        driver.implicitly_wait(2)\n",
    "        y=driver.find_elements_by_id(\"add-contact-info-button\")\n",
    "        y[0].click()\n",
    "        driver.implicitly_wait(2)\n",
    "        driver.find_element_by_id(\"firstName\").send_keys(name)\n",
    "        driver.find_element_by_id(\"lastName\").send_keys(last)\n",
    "        driver.find_element_by_id(\"phone\").send_keys(number)\n",
    "        driver.implicitly_wait(2)\n",
    "        driver.find_element_by_id(\"review-purchase-button\").click()\n",
    "        driver.implicitly_wait(2)\n",
    "        driver.find_element_by_id(\"buy-now-button\").click()\n",
    "        driver.implicitly_wait(5)\n",
    "        zoom=driver.find_element_by_class_name(\"myt-fulfillment.myt-fulfillment-online-redemption.block\")\n",
    "        info.append(data)\n",
    "        url.append(zoom.text)\n",
    "        datamy.append(data1)\n",
    "        #datamy2.append(title)\n",
    "        \n",
    "        driver.get(\"https://www.goldstar.com/national?q=free%20zoom&page=6\")\n",
    "        driver.implicitly_wait(5)\n",
    "        elements = driver.find_elements_by_class_name(\"card-container\")\n",
    "driver.implicitly_wait(5)"
   ]
  },
  {
   "cell_type": "code",
   "execution_count": null,
   "metadata": {},
   "outputs": [],
   "source": [
    "from urllib.request import Request\n",
    "import bs4"
   ]
  },
  {
   "cell_type": "code",
   "execution_count": null,
   "metadata": {
    "scrolled": false
   },
   "outputs": [],
   "source": [
    "import requests\n",
    "for element in range(0,len(elements)):\n",
    "    print(element)\n",
    "    data=elements[element].text\n",
    "    print(data)\n",
    "    if (\"FREE\" in data) and (\"$\" not in data):\n",
    "        elements[element].click()\n",
    "        driver.implicitly_wait(10)\n",
    "        url=driver.current_url\n",
    "\n",
    "        req = Request(url, headers={'User-Agent': 'Mozilla/5.0'})\n",
    "        web_byte = urlopen(req).read()\n",
    "        webpage=web_byte.decode(\"utf-8\")\n",
    "        soup=bs4.BeautifulSoup(webpage,'html.parser')\n",
    "\n",
    "        title = soup.find('meta',attrs={'property':'og:description'})\n",
    "        print(title)\n",
    "        datamy2.append(title)"
   ]
  },
  {
   "cell_type": "code",
   "execution_count": null,
   "metadata": {},
   "outputs": [],
   "source": [
    "print(len(url))\n",
    "print(len(info))\n",
    "print(len(datamy))"
   ]
  },
  {
   "cell_type": "code",
   "execution_count": null,
   "metadata": {
    "scrolled": false
   },
   "outputs": [],
   "source": [
    "url"
   ]
  },
  {
   "cell_type": "code",
   "execution_count": null,
   "metadata": {
    "scrolled": false
   },
   "outputs": [],
   "source": [
    "info"
   ]
  },
  {
   "cell_type": "code",
   "execution_count": null,
   "metadata": {
    "scrolled": false
   },
   "outputs": [],
   "source": [
    "datamy"
   ]
  },
  {
   "cell_type": "code",
   "execution_count": null,
   "metadata": {},
   "outputs": [],
   "source": [
    "import pandas as pd\n",
    "df=pd.DataFrame({'Name': info,'Show Timings':datamy,'Zoom Link': url})\n",
    "df.head(50)"
   ]
  },
  {
   "cell_type": "code",
   "execution_count": null,
   "metadata": {},
   "outputs": [],
   "source": [
    "import pandas as pd\n",
    "df=pd.read_csv(\"C:\\\\Users\\\\Admin\\\\Downloads\\\\todaydb.csv\")\n",
    "df.head(20)"
   ]
  },
  {
   "cell_type": "code",
   "execution_count": null,
   "metadata": {},
   "outputs": [],
   "source": [
    "import pandas as pd\n",
    "df=pd.read_excel(\"C:\\\\Users\\\\Admin\\\\Desktop\\\\file3_edited.xlsx\")"
   ]
  },
  {
   "cell_type": "code",
   "execution_count": null,
   "metadata": {},
   "outputs": [],
   "source": [
    "db=pd.DataFrame(columns=['id', 'host_id', 'category_id', 'banner_img_url', 'content_source',\n",
    "       'cost', 'start_time', 'source', 'language', 'description', 'duration',\n",
    "       'is_draft', 'max_size', 'source_url', 'name', 'donation_requested',\n",
    "       'profile_img_url', 'tags', 'ext_event_id', 'meeting_url', 'password',\n",
    "       'qa_flag', 'created_at', 'updated_at', 'agent_id','end_time'])"
   ]
  },
  {
   "cell_type": "code",
   "execution_count": null,
   "metadata": {},
   "outputs": [],
   "source": [
    "db['name']=df['Name']\n",
    "db['start_time']=df['Show Time']\n",
    "db['description']=None\n",
    "db['meeting_url']=df['ZoomLink']\n",
    "db['duration']=40"
   ]
  },
  {
   "cell_type": "code",
   "execution_count": null,
   "metadata": {},
   "outputs": [],
   "source": [
    "db['cost']='0.00'"
   ]
  },
  {
   "cell_type": "code",
   "execution_count": null,
   "metadata": {},
   "outputs": [],
   "source": [
    "db['cost']=db['cost'].astype(str)\n",
    "db['donation_requested']=0\n",
    "db['host_id']=1\n",
    "db['agent_id']=91\n",
    "db['qa_flag']=9\n",
    "db['content_source']=9\n",
    "db['is_draft']=0"
   ]
  },
  {
   "cell_type": "code",
   "execution_count": null,
   "metadata": {},
   "outputs": [],
   "source": [
    "db[\"meeting_url\"]=db[\"meeting_url\"].str.replace(\"Visit\",\"\",regex=True)"
   ]
  },
  {
   "cell_type": "code",
   "execution_count": null,
   "metadata": {},
   "outputs": [],
   "source": [
    "db[\"meeting_url\"]=db[\"meeting_url\"].str.replace(\"to redeem\",\"\",regex=True)"
   ]
  },
  {
   "cell_type": "code",
   "execution_count": null,
   "metadata": {},
   "outputs": [],
   "source": [
    "db.to_csv(\"Goldstar_3mar.csv\",index=False)"
   ]
  },
  {
   "cell_type": "code",
   "execution_count": null,
   "metadata": {},
   "outputs": [],
   "source": [
    "csv1=pd.read_csv(\"C:\\\\Users\\\\Admin\\\\final_new_csv.csv\")\n",
    "csv2=pd.read_csv(\"C:\\\\Users\\\\Admin\\\\Goldstar_24feb.csv\")\n",
    "iseq = csv1['name'] != csv2['name']\n",
    "\n",
    "# push compared data with 'True' from csv2 to csv3\n",
    "csv3 = pd.DataFrame(csv2[iseq])\n",
    "print(csv3['name'], csv3['start_time'])\n",
    "#print(csv3['start_time'])\n",
    "# write to a new csv file\n",
    "csv3.to_csv('trial_Goldstar_24feb.csv',index=False)"
   ]
  },
  {
   "cell_type": "code",
   "execution_count": null,
   "metadata": {},
   "outputs": [],
   "source": [
    "csv1=pd.read_csv(\"C:\\\\Users\\\\Admin\\\\trial_Goldstar_24feb.csv\")\n",
    "csv2=pd.read_csv(\"C:\\\\Users\\\\Admin\\\\final_new_csv.csv\")\n",
    "iseq = csv1['start_time'] != csv2['start_time']\n",
    "\n",
    "csv3 = pd.DataFrame(csv2[iseq])\n",
    "csv3.head(10)\n",
    "\n",
    "#csv3.to_csv('trial2_Goldstar_24feb.csv',index=False)"
   ]
  },
  {
   "cell_type": "code",
   "execution_count": null,
   "metadata": {},
   "outputs": [],
   "source": [
    "csv1=pd.read_csv(\"C:\\\\Users\\\\Admin\\\\Goldstar_26feb.csv\",usecols=['name','start_time'])\n",
    "csv2=pd.read_csv(\"C:\\\\Users\\\\Admin\\\\Desktop\\\\Zoom_Link2_final.csv\",usecols=['name','start_time'])\n",
    "iseq = csv1['start_time'] != csv2['start_time']\n",
    "\n",
    "csv3 = pd.DataFrame(csv2[iseq])\n",
    "csv3.head(10)\n",
    "\n",
    "#csv3.to_csv('trial2_Goldstar_24feb')"
   ]
  },
  {
   "cell_type": "code",
   "execution_count": null,
   "metadata": {},
   "outputs": [],
   "source": [
    "import re\n",
    "pattern=re.compile(\"[A-Z][a-z]+\\s\\d\\d,\\s\\d+\\s/\\s\\d+:\\d+[a-z]+\")"
   ]
  },
  {
   "cell_type": "code",
   "execution_count": null,
   "metadata": {},
   "outputs": [],
   "source": [
    "new_time=[]"
   ]
  },
  {
   "cell_type": "code",
   "execution_count": null,
   "metadata": {},
   "outputs": [],
   "source": [
    "db=pd.read_csv(\"C:\\\\Users\\\\Admin\\\\Goldstar_3mar.csv\")"
   ]
  },
  {
   "cell_type": "code",
   "execution_count": null,
   "metadata": {
    "scrolled": true
   },
   "outputs": [],
   "source": [
    "from datetime import datetime\n",
    "from pytz import timezone\n",
    "import time \n",
    "import datetime\n",
    "import pytz\n",
    "i=db[\"start_time\"][7]\n",
    "print(i)\n",
    "x=pattern.findall(i)\n",
    "print(x)\n",
    "y=\"\"\n",
    "y=y.join(x)\n",
    "fmt = \"%Y-%m-%d %H:%M:%S %Z%z\"\n",
    "\n",
    "#time_stamp=time.mktime(datetime.datetime.strptime(y, \n",
    "                                             #\"%b %d, %Y / %I:%M%p\").timetuple())\n",
    "date_time_str = y\n",
    "date_time_obj = datetime.datetime.strptime(date_time_str, \"%b %d, %Y / %I:%M%p\")\n",
    "old_timezone = pytz.timezone(\"US/Eastern\")\n",
    "new_timezone = pytz.timezone(\"UTC\")"
   ]
  },
  {
   "cell_type": "code",
   "execution_count": null,
   "metadata": {
    "scrolled": true
   },
   "outputs": [],
   "source": [
    "localized_timestamp = old_timezone.localize(date_time_obj)\n",
    "new_timezone_timestamp = localized_timestamp.astimezone(new_timezone)\n",
    "#ime_stamp=time.mktime(datetime.datetime.strptime(new_timezone_timestamp\n",
    "                                             #.timetuple())\n",
    "timestamp = datetime.datetime.timestamp(new_timezone_timestamp)\n",
    "new_time.append(timestamp)\n",
    "print(new_time)"
   ]
  }
 ],
 "metadata": {
  "kernelspec": {
   "display_name": "Python 3",
   "language": "python",
   "name": "python3"
  },
  "language_info": {
   "codemirror_mode": {
    "name": "ipython",
    "version": 3
   },
   "file_extension": ".py",
   "mimetype": "text/x-python",
   "name": "python",
   "nbconvert_exporter": "python",
   "pygments_lexer": "ipython3",
   "version": "3.8.3"
  }
 },
 "nbformat": 4,
 "nbformat_minor": 4
}
